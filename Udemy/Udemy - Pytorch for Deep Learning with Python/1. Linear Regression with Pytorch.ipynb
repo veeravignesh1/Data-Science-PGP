{
 "cells": [
  {
   "cell_type": "markdown",
   "metadata": {},
   "source": [
    "<h1 align='center'> Linear Regression with Generated Data in Pytorch </h1>"
   ]
  },
  {
   "cell_type": "markdown",
   "metadata": {},
   "source": [
    "## Importing Necessary Modules"
   ]
  },
  {
   "cell_type": "code",
   "execution_count": 1,
   "metadata": {
    "ExecuteTime": {
     "end_time": "2020-04-29T11:47:14.976232Z",
     "start_time": "2020-04-29T11:47:12.589700Z"
    }
   },
   "outputs": [],
   "source": [
    "import torch\n",
    "import torch.nn as nn\n",
    "import matplotlib.pyplot as plt\n",
    "import numpy as np\n",
    "import pandas as pd"
   ]
  },
  {
   "cell_type": "code",
   "execution_count": 2,
   "metadata": {
    "ExecuteTime": {
     "end_time": "2020-04-29T11:47:14.994222Z",
     "start_time": "2020-04-29T11:47:14.981227Z"
    }
   },
   "outputs": [
    {
     "data": {
      "text/plain": [
       "'1.4.0'"
      ]
     },
     "execution_count": 2,
     "metadata": {},
     "output_type": "execute_result"
    }
   ],
   "source": [
    "torch.__version__"
   ]
  },
  {
   "cell_type": "markdown",
   "metadata": {},
   "source": [
    "## Creating Dummy Data"
   ]
  },
  {
   "cell_type": "code",
   "execution_count": 3,
   "metadata": {
    "ExecuteTime": {
     "end_time": "2020-04-29T11:47:15.179105Z",
     "start_time": "2020-04-29T11:47:14.999217Z"
    }
   },
   "outputs": [],
   "source": [
    "x = torch.linspace(0.,50.,50).reshape(-1,1)"
   ]
  },
  {
   "cell_type": "code",
   "execution_count": 4,
   "metadata": {
    "ExecuteTime": {
     "end_time": "2020-04-29T11:47:15.300033Z",
     "start_time": "2020-04-29T11:47:15.184103Z"
    }
   },
   "outputs": [],
   "source": [
    "e = torch.randint(-10,+11,(50,1),dtype=torch.float)"
   ]
  },
  {
   "cell_type": "code",
   "execution_count": 5,
   "metadata": {
    "ExecuteTime": {
     "end_time": "2020-04-29T11:47:15.422955Z",
     "start_time": "2020-04-29T11:47:15.304031Z"
    }
   },
   "outputs": [],
   "source": [
    "y  = 2*x+1 + e"
   ]
  },
  {
   "cell_type": "markdown",
   "metadata": {},
   "source": [
    "Actual weights and bias based on the equation.\n",
    "\n",
    "- weight = 2\n",
    "- bias = 1"
   ]
  },
  {
   "cell_type": "code",
   "execution_count": 6,
   "metadata": {
    "ExecuteTime": {
     "end_time": "2020-04-29T11:47:15.800725Z",
     "start_time": "2020-04-29T11:47:15.426955Z"
    }
   },
   "outputs": [
    {
     "data": {
      "image/png": "[encoded data removed]",
      "text/plain": [
       "<Figure size 432x288 with 1 Axes>"
      ]
     },
     "metadata": {
      "needs_background": "light"
     },
     "output_type": "display_data"
    }
   ],
   "source": [
    "plt.scatter(x,y)\n",
    "plt.show()"
   ]
  },
  {
   "cell_type": "markdown",
   "metadata": {},
   "source": [
    "## Defining the module"
   ]
  },
  {
   "cell_type": "code",
   "execution_count": 7,
   "metadata": {
    "ExecuteTime": {
     "end_time": "2020-04-29T11:47:15.814715Z",
     "start_time": "2020-04-29T11:47:15.804721Z"
    }
   },
   "outputs": [],
   "source": [
    "class Model(nn.Module):\n",
    "    \n",
    "    # Initializing the class\n",
    "    def __init__(self,in_features,out_features):\n",
    "        \n",
    "        #Initializing the base class\n",
    "        super().__init__()\n",
    "        #\n",
    "        self.linear = nn.Linear(in_features,out_features)\n",
    "    \n",
    "    def forward(self,x):\n",
    "        ypred = self.linear(x)\n",
    "        return ypred"
   ]
  },
  {
   "cell_type": "code",
   "execution_count": 8,
   "metadata": {
    "ExecuteTime": {
     "end_time": "2020-04-29T11:47:15.945633Z",
     "start_time": "2020-04-29T11:47:15.821711Z"
    }
   },
   "outputs": [],
   "source": [
    "#Creating an instance of the class\n",
    "model = Model(1,1)\n",
    "\n",
    "ypred=model.forward(x)"
   ]
  },
  {
   "cell_type": "markdown",
   "metadata": {
    "ExecuteTime": {
     "end_time": "2020-04-29T09:15:05.445695Z",
     "start_time": "2020-04-29T09:15:05.135888Z"
    }
   },
   "source": [
    "Now from the above we have just did a forward pass where nn.Linear will assign a random weight and bias. So we will expect our model to perform really badly"
   ]
  },
  {
   "cell_type": "code",
   "execution_count": 9,
   "metadata": {
    "ExecuteTime": {
     "end_time": "2020-04-29T11:47:16.140516Z",
     "start_time": "2020-04-29T11:47:15.949634Z"
    }
   },
   "outputs": [
    {
     "data": {
      "text/plain": [
       "(0.6533929109573364, -0.5177580118179321)"
      ]
     },
     "execution_count": 9,
     "metadata": {},
     "output_type": "execute_result"
    }
   ],
   "source": [
    "model.linear.weight.item(),model.linear.bias.item()"
   ]
  },
  {
   "cell_type": "code",
   "execution_count": 10,
   "metadata": {
    "ExecuteTime": {
     "end_time": "2020-04-29T11:47:16.318406Z",
     "start_time": "2020-04-29T11:47:16.144512Z"
    }
   },
   "outputs": [
    {
     "name": "stdout",
     "output_type": "stream",
     "text": [
      "As we guessed the value of weight 0.65 and bias -0.52 Is far from the original values\n"
     ]
    }
   ],
   "source": [
    "print(f'As we guessed the value of weight {model.linear.weight.item():.2f} and bias {model.linear.bias.item():.2f} Is far from the original values')"
   ]
  },
  {
   "cell_type": "code",
   "execution_count": 11,
   "metadata": {
    "ExecuteTime": {
     "end_time": "2020-04-29T11:47:16.434335Z",
     "start_time": "2020-04-29T11:47:16.321404Z"
    }
   },
   "outputs": [
    {
     "data": {
      "text/plain": [
       "torch.Size([50, 1])"
      ]
     },
     "execution_count": 11,
     "metadata": {},
     "output_type": "execute_result"
    }
   ],
   "source": [
    "x.size()"
   ]
  },
  {
   "cell_type": "code",
   "execution_count": 12,
   "metadata": {
    "ExecuteTime": {
     "end_time": "2020-04-29T11:47:16.558258Z",
     "start_time": "2020-04-29T11:47:16.438335Z"
    }
   },
   "outputs": [
    {
     "data": {
      "text/plain": [
       "torch.Size([50, 1])"
      ]
     },
     "execution_count": 12,
     "metadata": {},
     "output_type": "execute_result"
    }
   ],
   "source": [
    "ypred.size()"
   ]
  },
  {
   "cell_type": "code",
   "execution_count": 13,
   "metadata": {
    "ExecuteTime": {
     "end_time": "2020-04-29T11:47:16.944020Z",
     "start_time": "2020-04-29T11:47:16.562255Z"
    }
   },
   "outputs": [
    {
     "data": {
      "image/png": "[encoded data removed]",
      "text/plain": [
       "<Figure size 432x288 with 1 Axes>"
      ]
     },
     "metadata": {
      "needs_background": "light"
     },
     "output_type": "display_data"
    }
   ],
   "source": [
    "plt.scatter(x,y)\n",
    "plt.plot(x.numpy().flatten() , ypred.detach().numpy().flatten(),c=\"red\")\n",
    "plt.show()"
   ]
  },
  {
   "cell_type": "markdown",
   "metadata": {},
   "source": [
    "## Lets train the model"
   ]
  },
  {
   "cell_type": "markdown",
   "metadata": {
    "ExecuteTime": {
     "end_time": "2020-04-29T09:22:43.062155Z",
     "start_time": "2020-04-29T09:22:43.048167Z"
    }
   },
   "source": [
    "- We have to mention the criterion on which we train our model\n",
    "- The optimizer which we are going to use\n",
    "- Number of epochs for which we are going to run the model for"
   ]
  },
  {
   "cell_type": "code",
   "execution_count": 14,
   "metadata": {
    "ExecuteTime": {
     "end_time": "2020-04-29T11:47:17.023972Z",
     "start_time": "2020-04-29T11:47:16.947019Z"
    }
   },
   "outputs": [
    {
     "name": "stdout",
     "output_type": "stream",
     "text": [
      "epoch:1, loss:1684.86,weight:3.01,bias:-0.45\n",
      "epoch:2, loss:808.46,weight:1.40,bias:-0.49\n",
      "epoch:3, loss:397.03,weight:2.50,bias:-0.46\n",
      "epoch:4, loss:203.90,weight:1.74,bias:-0.48\n",
      "epoch:5, loss:113.23,weight:2.26,bias:-0.47\n",
      "epoch:6, loss:70.66,weight:1.91,bias:-0.48\n",
      "epoch:7, loss:50.68,weight:2.15,bias:-0.47\n",
      "epoch:8, loss:41.30,weight:1.98,bias:-0.47\n",
      "epoch:9, loss:36.90,weight:2.10,bias:-0.47\n",
      "epoch:10, loss:34.83,weight:2.02,bias:-0.47\n",
      "epoch:11, loss:33.86,weight:2.07,bias:-0.47\n",
      "epoch:12, loss:33.40,weight:2.04,bias:-0.47\n",
      "epoch:13, loss:33.19,weight:2.06,bias:-0.46\n",
      "epoch:14, loss:33.08,weight:2.05,bias:-0.46\n",
      "epoch:15, loss:33.04,weight:2.06,bias:-0.46\n",
      "epoch:16, loss:33.01,weight:2.05,bias:-0.46\n",
      "epoch:17, loss:33.00,weight:2.05,bias:-0.46\n",
      "epoch:18, loss:33.00,weight:2.05,bias:-0.46\n",
      "epoch:19, loss:32.99,weight:2.05,bias:-0.46\n",
      "epoch:20, loss:32.99,weight:2.05,bias:-0.46\n",
      "epoch:21, loss:32.99,weight:2.05,bias:-0.46\n",
      "epoch:22, loss:32.99,weight:2.05,bias:-0.46\n",
      "epoch:23, loss:32.99,weight:2.05,bias:-0.46\n",
      "epoch:24, loss:32.99,weight:2.05,bias:-0.45\n",
      "epoch:25, loss:32.99,weight:2.05,bias:-0.45\n",
      "epoch:26, loss:32.99,weight:2.05,bias:-0.45\n",
      "epoch:27, loss:32.99,weight:2.05,bias:-0.45\n",
      "epoch:28, loss:32.98,weight:2.05,bias:-0.45\n",
      "epoch:29, loss:32.98,weight:2.05,bias:-0.45\n",
      "epoch:30, loss:32.98,weight:2.05,bias:-0.45\n",
      "epoch:31, loss:32.98,weight:2.05,bias:-0.45\n",
      "epoch:32, loss:32.98,weight:2.05,bias:-0.45\n",
      "epoch:33, loss:32.98,weight:2.05,bias:-0.45\n",
      "epoch:34, loss:32.98,weight:2.05,bias:-0.45\n",
      "epoch:35, loss:32.98,weight:2.05,bias:-0.44\n",
      "epoch:36, loss:32.98,weight:2.05,bias:-0.44\n",
      "epoch:37, loss:32.98,weight:2.05,bias:-0.44\n",
      "epoch:38, loss:32.98,weight:2.05,bias:-0.44\n",
      "epoch:39, loss:32.98,weight:2.05,bias:-0.44\n",
      "epoch:40, loss:32.98,weight:2.05,bias:-0.44\n",
      "epoch:41, loss:32.97,weight:2.05,bias:-0.44\n",
      "epoch:42, loss:32.97,weight:2.05,bias:-0.44\n",
      "epoch:43, loss:32.97,weight:2.05,bias:-0.44\n",
      "epoch:44, loss:32.97,weight:2.05,bias:-0.44\n",
      "epoch:45, loss:32.97,weight:2.05,bias:-0.44\n",
      "epoch:46, loss:32.97,weight:2.05,bias:-0.44\n",
      "epoch:47, loss:32.97,weight:2.05,bias:-0.43\n",
      "epoch:48, loss:32.97,weight:2.05,bias:-0.43\n",
      "epoch:49, loss:32.97,weight:2.05,bias:-0.43\n",
      "epoch:50, loss:32.97,weight:2.05,bias:-0.43\n"
     ]
    }
   ],
   "source": [
    "criterion = nn.MSELoss()\n",
    "optimizer = torch.optim.SGD(model.parameters(),lr=0.001)\n",
    "\n",
    "epochs = 50\n",
    "losses = [] # To keep track of the loss generated so we can visualize\n",
    "\n",
    "for i in range(epochs):\n",
    "    i +=1\n",
    "    \n",
    "    \n",
    "    ypred = model.forward(x)\n",
    "    \n",
    "    loss= criterion(ypred,y)\n",
    "    \n",
    "    losses.append(loss.item())\n",
    "    \n",
    "    optimizer.zero_grad()\n",
    "    \n",
    "    loss.backward()\n",
    "    \n",
    "    optimizer.step()\n",
    "    print(f'epoch:{i}, loss:{loss.item():.2f},weight:{model.linear.weight.item():.2f},bias:{model.linear.bias.item():.2f}')"
   ]
  },
  {
   "cell_type": "code",
   "execution_count": 15,
   "metadata": {
    "ExecuteTime": {
     "end_time": "2020-04-29T11:47:17.377754Z",
     "start_time": "2020-04-29T11:47:17.027969Z"
    }
   },
   "outputs": [
    {
     "data": {
      "image/png": "[encoded data removed]",
      "text/plain": [
       "<Figure size 432x288 with 1 Axes>"
      ]
     },
     "metadata": {
      "needs_background": "light"
     },
     "output_type": "display_data"
    }
   ],
   "source": [
    "plt.scatter(x,y)\n",
    "plt.plot(x.numpy().flatten() , ypred.detach().numpy().flatten(),c=\"red\")\n",
    "plt.show()"
   ]
  },
  {
   "cell_type": "code",
   "execution_count": 16,
   "metadata": {
    "ExecuteTime": {
     "end_time": "2020-04-29T11:47:17.636594Z",
     "start_time": "2020-04-29T11:47:17.381752Z"
    }
   },
   "outputs": [
    {
     "data": {
      "image/png": "[encoded data removed]",
      "text/plain": [
       "<Figure size 432x288 with 1 Axes>"
      ]
     },
     "metadata": {
      "needs_background": "light"
     },
     "output_type": "display_data"
    }
   ],
   "source": [
    "plt.plot(range(epochs),losses)\n",
    "plt.show()"
   ]
  },
  {
   "cell_type": "code",
   "execution_count": null,
   "metadata": {},
   "outputs": [],
   "source": []
  }
 ],
 "metadata": {
  "hide_input": false,
  "kernelspec": {
   "display_name": "Python 3",
   "language": "python",
   "name": "python3"
  },
  "language_info": {
   "codemirror_mode": {
    "name": "ipython",
    "version": 3
   },
   "file_extension": ".py",
   "mimetype": "text/x-python",
   "name": "python",
   "nbconvert_exporter": "python",
   "pygments_lexer": "ipython3",
   "version": "3.7.7"
  },
  "toc": {
   "base_numbering": 1,
   "nav_menu": {},
   "number_sections": false,
   "sideBar": true,
   "skip_h1_title": false,
   "title_cell": "Table of Contents",
   "title_sidebar": "Contents",
   "toc_cell": false,
   "toc_position": {},
   "toc_section_display": true,
   "toc_window_display": false
  },
  "varInspector": {
   "cols": {
    "lenName": 16,
    "lenType": 16,
    "lenVar": 40
   },
   "kernels_config": {
    "python": {
     "delete_cmd_postfix": "",
     "delete_cmd_prefix": "del ",
     "library": "var_list.py",
     "varRefreshCmd": "print(var_dic_list())"
    },
    "r": {
     "delete_cmd_postfix": ") ",
     "delete_cmd_prefix": "rm(",
     "library": "var_list.r",
     "varRefreshCmd": "cat(var_dic_list()) "
    }
   },
   "types_to_exclude": [
    "module",
    "function",
    "builtin_function_or_method",
    "instance",
    "_Feature"
   ],
   "window_display": false
  }
 },
 "nbformat": 4,
 "nbformat_minor": 2
}
