{
 "cells": [
  {
   "cell_type": "code",
   "execution_count": 1,
   "metadata": {
    "ExecuteTime": {
     "end_time": "2020-04-29T14:33:46.864019Z",
     "start_time": "2020-04-29T14:33:44.611403Z"
    }
   },
   "outputs": [],
   "source": [
    "import torch\n",
    "import torch.nn as nn\n",
    "import torch.nn.functional as F\n",
    "import matplotlib.pyplot as plt\n",
    "import numpy as np\n",
    "import pandas as pd"
   ]
  },
  {
   "cell_type": "code",
   "execution_count": 2,
   "metadata": {
    "ExecuteTime": {
     "end_time": "2020-04-29T14:33:46.879010Z",
     "start_time": "2020-04-29T14:33:46.867015Z"
    }
   },
   "outputs": [],
   "source": [
    "df = pd.read_csv(\"data/iris.csv\")"
   ]
  },
  {
   "cell_type": "code",
   "execution_count": 3,
   "metadata": {
    "ExecuteTime": {
     "end_time": "2020-04-29T14:33:47.084165Z",
     "start_time": "2020-04-29T14:33:46.882007Z"
    }
   },
   "outputs": [
    {
     "data": {
      "text/html": [
       "<div>\n",
       "<style scoped>\n",
       "    .dataframe tbody tr th:only-of-type {\n",
       "        vertical-align: middle;\n",
       "    }\n",
       "\n",
       "    .dataframe tbody tr th {\n",
       "        vertical-align: top;\n",
       "    }\n",
       "\n",
       "    .dataframe thead th {\n",
       "        text-align: right;\n",
       "    }\n",
       "</style>\n",
       "<table border=\"1\" class=\"dataframe\">\n",
       "  <thead>\n",
       "    <tr style=\"text-align: right;\">\n",
       "      <th></th>\n",
       "      <th>sepal length (cm)</th>\n",
       "      <th>sepal width (cm)</th>\n",
       "      <th>petal length (cm)</th>\n",
       "      <th>petal width (cm)</th>\n",
       "      <th>target</th>\n",
       "    </tr>\n",
       "  </thead>\n",
       "  <tbody>\n",
       "    <tr>\n",
       "      <th>0</th>\n",
       "      <td>5.1</td>\n",
       "      <td>3.5</td>\n",
       "      <td>1.4</td>\n",
       "      <td>0.2</td>\n",
       "      <td>0.0</td>\n",
       "    </tr>\n",
       "    <tr>\n",
       "      <th>1</th>\n",
       "      <td>4.9</td>\n",
       "      <td>3.0</td>\n",
       "      <td>1.4</td>\n",
       "      <td>0.2</td>\n",
       "      <td>0.0</td>\n",
       "    </tr>\n",
       "    <tr>\n",
       "      <th>2</th>\n",
       "      <td>4.7</td>\n",
       "      <td>3.2</td>\n",
       "      <td>1.3</td>\n",
       "      <td>0.2</td>\n",
       "      <td>0.0</td>\n",
       "    </tr>\n",
       "    <tr>\n",
       "      <th>3</th>\n",
       "      <td>4.6</td>\n",
       "      <td>3.1</td>\n",
       "      <td>1.5</td>\n",
       "      <td>0.2</td>\n",
       "      <td>0.0</td>\n",
       "    </tr>\n",
       "    <tr>\n",
       "      <th>4</th>\n",
       "      <td>5.0</td>\n",
       "      <td>3.6</td>\n",
       "      <td>1.4</td>\n",
       "      <td>0.2</td>\n",
       "      <td>0.0</td>\n",
       "    </tr>\n",
       "  </tbody>\n",
       "</table>\n",
       "</div>"
      ],
      "text/plain": [
       "   sepal length (cm)  sepal width (cm)  petal length (cm)  petal width (cm)  \\\n",
       "0                5.1               3.5                1.4               0.2   \n",
       "1                4.9               3.0                1.4               0.2   \n",
       "2                4.7               3.2                1.3               0.2   \n",
       "3                4.6               3.1                1.5               0.2   \n",
       "4                5.0               3.6                1.4               0.2   \n",
       "\n",
       "   target  \n",
       "0     0.0  \n",
       "1     0.0  \n",
       "2     0.0  \n",
       "3     0.0  \n",
       "4     0.0  "
      ]
     },
     "execution_count": 3,
     "metadata": {},
     "output_type": "execute_result"
    }
   ],
   "source": [
    "df.head()"
   ]
  },
  {
   "cell_type": "code",
   "execution_count": 4,
   "metadata": {
    "ExecuteTime": {
     "end_time": "2020-04-29T14:33:47.203108Z",
     "start_time": "2020-04-29T14:33:47.087163Z"
    }
   },
   "outputs": [],
   "source": [
    "X = df.drop('target',axis =1).values\n",
    "y = df.target.values"
   ]
  },
  {
   "cell_type": "code",
   "execution_count": 5,
   "metadata": {
    "ExecuteTime": {
     "end_time": "2020-04-29T14:33:47.322797Z",
     "start_time": "2020-04-29T14:33:47.212101Z"
    }
   },
   "outputs": [
    {
     "data": {
      "text/plain": [
       "array([[5.1, 3.5, 1.4, 0.2],\n",
       "       [4.9, 3. , 1.4, 0.2],\n",
       "       [4.7, 3.2, 1.3, 0.2],\n",
       "       [4.6, 3.1, 1.5, 0.2],\n",
       "       [5. , 3.6, 1.4, 0.2]])"
      ]
     },
     "execution_count": 5,
     "metadata": {},
     "output_type": "execute_result"
    }
   ],
   "source": [
    "X[:5]"
   ]
  },
  {
   "cell_type": "code",
   "execution_count": 6,
   "metadata": {
    "ExecuteTime": {
     "end_time": "2020-04-29T14:33:47.467972Z",
     "start_time": "2020-04-29T14:33:47.325795Z"
    }
   },
   "outputs": [
    {
     "data": {
      "text/plain": [
       "array([0., 0., 0., 0., 0.])"
      ]
     },
     "execution_count": 6,
     "metadata": {},
     "output_type": "execute_result"
    }
   ],
   "source": [
    "y[:5]"
   ]
  },
  {
   "cell_type": "markdown",
   "metadata": {},
   "source": [
    "## Using Sklearn Train Test Split for Tabular Data"
   ]
  },
  {
   "cell_type": "code",
   "execution_count": 7,
   "metadata": {
    "ExecuteTime": {
     "end_time": "2020-04-29T14:33:48.284657Z",
     "start_time": "2020-04-29T14:33:47.474967Z"
    }
   },
   "outputs": [],
   "source": [
    "from sklearn.model_selection import train_test_split"
   ]
  },
  {
   "cell_type": "code",
   "execution_count": 8,
   "metadata": {
    "ExecuteTime": {
     "end_time": "2020-04-29T14:33:48.294665Z",
     "start_time": "2020-04-29T14:33:48.287667Z"
    }
   },
   "outputs": [],
   "source": [
    "X_train,X_test,y_train,y_test=train_test_split(X,y,test_size=0.2,random_state=1)"
   ]
  },
  {
   "cell_type": "code",
   "execution_count": 9,
   "metadata": {
    "ExecuteTime": {
     "end_time": "2020-04-29T14:33:48.466480Z",
     "start_time": "2020-04-29T14:33:48.298658Z"
    }
   },
   "outputs": [
    {
     "data": {
      "text/plain": [
       "array([[6.1, 3. , 4.6, 1.4],\n",
       "       [7.7, 3. , 6.1, 2.3],\n",
       "       [5.6, 2.5, 3.9, 1.1],\n",
       "       [6.4, 2.8, 5.6, 2.1],\n",
       "       [5.8, 2.8, 5.1, 2.4]])"
      ]
     },
     "execution_count": 9,
     "metadata": {},
     "output_type": "execute_result"
    }
   ],
   "source": [
    "X_train[:5]"
   ]
  },
  {
   "cell_type": "code",
   "execution_count": 10,
   "metadata": {
    "ExecuteTime": {
     "end_time": "2020-04-29T14:33:48.587406Z",
     "start_time": "2020-04-29T14:33:48.469477Z"
    }
   },
   "outputs": [
    {
     "data": {
      "text/plain": [
       "array([[1.],\n",
       "       [2.],\n",
       "       [1.],\n",
       "       [2.],\n",
       "       [2.]])"
      ]
     },
     "execution_count": 10,
     "metadata": {},
     "output_type": "execute_result"
    }
   ],
   "source": [
    "y_train[:5].reshape(-1,1)"
   ]
  },
  {
   "cell_type": "markdown",
   "metadata": {},
   "source": [
    "Here the data is small and we where able to load all them at once. what if the data is large and we want to load it in batches. For this a simpler method is to use DataLoader."
   ]
  },
  {
   "cell_type": "markdown",
   "metadata": {},
   "source": [
    "### Using Pytorch inbuild data loading functions"
   ]
  },
  {
   "cell_type": "code",
   "execution_count": 11,
   "metadata": {
    "ExecuteTime": {
     "end_time": "2020-04-29T14:33:48.706332Z",
     "start_time": "2020-04-29T14:33:48.591402Z"
    }
   },
   "outputs": [],
   "source": [
    "from torch.utils.data import TensorDataset, DataLoader"
   ]
  },
  {
   "cell_type": "code",
   "execution_count": 12,
   "metadata": {
    "ExecuteTime": {
     "end_time": "2020-04-29T14:33:48.836289Z",
     "start_time": "2020-04-29T14:33:48.709330Z"
    }
   },
   "outputs": [
    {
     "name": "stdout",
     "output_type": "stream",
     "text": [
      "Help on class DataLoader in module torch.utils.data.dataloader:\n",
      "\n",
      "class DataLoader(builtins.object)\n",
      " |  DataLoader(dataset, batch_size=1, shuffle=False, sampler=None, batch_sampler=None, num_workers=0, collate_fn=None, pin_memory=False, drop_last=False, timeout=0, worker_init_fn=None, multiprocessing_context=None)\n",
      " |  \n",
      " |  Data loader. Combines a dataset and a sampler, and provides an iterable over\n",
      " |  the given dataset.\n",
      " |  \n",
      " |  The :class:`~torch.utils.data.DataLoader` supports both map-style and\n",
      " |  iterable-style datasets with single- or multi-process loading, customizing\n",
      " |  loading order and optional automatic batching (collation) and memory pinning.\n",
      " |  \n",
      " |  See :py:mod:`torch.utils.data` documentation page for more details.\n",
      " |  \n",
      " |  Arguments:\n",
      " |      dataset (Dataset): dataset from which to load the data.\n",
      " |      batch_size (int, optional): how many samples per batch to load\n",
      " |          (default: ``1``).\n",
      " |      shuffle (bool, optional): set to ``True`` to have the data reshuffled\n",
      " |          at every epoch (default: ``False``).\n",
      " |      sampler (Sampler, optional): defines the strategy to draw samples from\n",
      " |          the dataset. If specified, :attr:`shuffle` must be ``False``.\n",
      " |      batch_sampler (Sampler, optional): like :attr:`sampler`, but returns a batch of\n",
      " |          indices at a time. Mutually exclusive with :attr:`batch_size`,\n",
      " |          :attr:`shuffle`, :attr:`sampler`, and :attr:`drop_last`.\n",
      " |      num_workers (int, optional): how many subprocesses to use for data\n",
      " |          loading. ``0`` means that the data will be loaded in the main process.\n",
      " |          (default: ``0``)\n",
      " |      collate_fn (callable, optional): merges a list of samples to form a\n",
      " |          mini-batch of Tensor(s).  Used when using batched loading from a\n",
      " |          map-style dataset.\n",
      " |      pin_memory (bool, optional): If ``True``, the data loader will copy Tensors\n",
      " |          into CUDA pinned memory before returning them.  If your data elements\n",
      " |          are a custom type, or your :attr:`collate_fn` returns a batch that is a custom type,\n",
      " |          see the example below.\n",
      " |      drop_last (bool, optional): set to ``True`` to drop the last incomplete batch,\n",
      " |          if the dataset size is not divisible by the batch size. If ``False`` and\n",
      " |          the size of dataset is not divisible by the batch size, then the last batch\n",
      " |          will be smaller. (default: ``False``)\n",
      " |      timeout (numeric, optional): if positive, the timeout value for collecting a batch\n",
      " |          from workers. Should always be non-negative. (default: ``0``)\n",
      " |      worker_init_fn (callable, optional): If not ``None``, this will be called on each\n",
      " |          worker subprocess with the worker id (an int in ``[0, num_workers - 1]``) as\n",
      " |          input, after seeding and before data loading. (default: ``None``)\n",
      " |  \n",
      " |  \n",
      " |  .. warning:: If the ``spawn`` start method is used, :attr:`worker_init_fn`\n",
      " |               cannot be an unpicklable object, e.g., a lambda function. See\n",
      " |               :ref:`multiprocessing-best-practices` on more details related\n",
      " |               to multiprocessing in PyTorch.\n",
      " |  \n",
      " |  .. note:: ``len(dataloader)`` heuristic is based on the length of the sampler used.\n",
      " |            When :attr:`dataset` is an :class:`~torch.utils.data.IterableDataset`,\n",
      " |            ``len(dataset)`` (if implemented) is returned instead, regardless\n",
      " |            of multi-process loading configurations, because PyTorch trust\n",
      " |            user :attr:`dataset` code in correctly handling multi-process\n",
      " |            loading to avoid duplicate data. See `Dataset Types`_ for more\n",
      " |            details on these two types of datasets and how\n",
      " |            :class:`~torch.utils.data.IterableDataset` interacts with `Multi-process data loading`_.\n",
      " |  \n",
      " |  Methods defined here:\n",
      " |  \n",
      " |  __init__(self, dataset, batch_size=1, shuffle=False, sampler=None, batch_sampler=None, num_workers=0, collate_fn=None, pin_memory=False, drop_last=False, timeout=0, worker_init_fn=None, multiprocessing_context=None)\n",
      " |      Initialize self.  See help(type(self)) for accurate signature.\n",
      " |  \n",
      " |  __iter__(self)\n",
      " |  \n",
      " |  __len__(self)\n",
      " |  \n",
      " |  __setattr__(self, attr, val)\n",
      " |      Implement setattr(self, name, value).\n",
      " |  \n",
      " |  ----------------------------------------------------------------------\n",
      " |  Data descriptors defined here:\n",
      " |  \n",
      " |  __dict__\n",
      " |      dictionary for instance variables (if defined)\n",
      " |  \n",
      " |  __weakref__\n",
      " |      list of weak references to the object (if defined)\n",
      " |  \n",
      " |  multiprocessing_context\n",
      "\n",
      "None\n"
     ]
    }
   ],
   "source": [
    "print(help(DataLoader))"
   ]
  },
  {
   "cell_type": "markdown",
   "metadata": {},
   "source": [
    "We can specify the number of batches in which data needs to be split and we can shuffle the data before inputting it into our model"
   ]
  },
  {
   "cell_type": "code",
   "execution_count": 13,
   "metadata": {
    "ExecuteTime": {
     "end_time": "2020-04-29T14:33:48.948955Z",
     "start_time": "2020-04-29T14:33:48.839288Z"
    }
   },
   "outputs": [],
   "source": [
    "features = df.drop('target',axis=1).values\n",
    "target = df.target.values"
   ]
  },
  {
   "cell_type": "code",
   "execution_count": 14,
   "metadata": {
    "ExecuteTime": {
     "end_time": "2020-04-29T14:33:49.063041Z",
     "start_time": "2020-04-29T14:33:48.951956Z"
    }
   },
   "outputs": [],
   "source": [
    "iris= TensorDataset(torch.FloatTensor(features),torch.LongTensor(target))"
   ]
  },
  {
   "cell_type": "code",
   "execution_count": 15,
   "metadata": {
    "ExecuteTime": {
     "end_time": "2020-04-29T14:33:49.187616Z",
     "start_time": "2020-04-29T14:33:49.067035Z"
    }
   },
   "outputs": [],
   "source": [
    "iris_loader = DataLoader(iris,batch_size=50,shuffle = True)"
   ]
  },
  {
   "cell_type": "code",
   "execution_count": 16,
   "metadata": {
    "ExecuteTime": {
     "end_time": "2020-04-29T14:33:49.365618Z",
     "start_time": "2020-04-29T14:33:49.198608Z"
    }
   },
   "outputs": [
    {
     "name": "stdout",
     "output_type": "stream",
     "text": [
      "0 [tensor([[6.7000, 3.1000, 5.6000, 2.4000],\n",
      "        [5.0000, 3.3000, 1.4000, 0.2000],\n",
      "        [7.1000, 3.0000, 5.9000, 2.1000],\n",
      "        [6.2000, 3.4000, 5.4000, 2.3000],\n",
      "        [5.7000, 3.8000, 1.7000, 0.3000],\n",
      "        [4.3000, 3.0000, 1.1000, 0.1000],\n",
      "        [5.1000, 3.3000, 1.7000, 0.5000],\n",
      "        [4.9000, 3.1000, 1.5000, 0.1000],\n",
      "        [7.2000, 3.2000, 6.0000, 1.8000],\n",
      "        [4.9000, 3.1000, 1.5000, 0.1000],\n",
      "        [7.7000, 2.8000, 6.7000, 2.0000],\n",
      "        [5.2000, 3.5000, 1.5000, 0.2000],\n",
      "        [4.8000, 3.4000, 1.9000, 0.2000],\n",
      "        [4.9000, 2.5000, 4.5000, 1.7000],\n",
      "        [6.0000, 2.2000, 4.0000, 1.0000],\n",
      "        [7.7000, 2.6000, 6.9000, 2.3000],\n",
      "        [5.1000, 3.8000, 1.6000, 0.2000],\n",
      "        [5.1000, 2.5000, 3.0000, 1.1000],\n",
      "        [7.6000, 3.0000, 6.6000, 2.1000],\n",
      "        [5.2000, 4.1000, 1.5000, 0.1000],\n",
      "        [6.1000, 3.0000, 4.9000, 1.8000],\n",
      "        [6.3000, 2.3000, 4.4000, 1.3000],\n",
      "        [4.6000, 3.2000, 1.4000, 0.2000],\n",
      "        [6.5000, 3.0000, 5.2000, 2.0000],\n",
      "        [6.6000, 3.0000, 4.4000, 1.4000],\n",
      "        [5.2000, 2.7000, 3.9000, 1.4000],\n",
      "        [6.8000, 3.0000, 5.5000, 2.1000],\n",
      "        [5.7000, 2.8000, 4.5000, 1.3000],\n",
      "        [7.2000, 3.6000, 6.1000, 2.5000],\n",
      "        [6.3000, 2.8000, 5.1000, 1.5000],\n",
      "        [6.5000, 3.0000, 5.8000, 2.2000],\n",
      "        [6.3000, 2.7000, 4.9000, 1.8000],\n",
      "        [5.4000, 3.9000, 1.3000, 0.4000],\n",
      "        [5.9000, 3.0000, 5.1000, 1.8000],\n",
      "        [7.9000, 3.8000, 6.4000, 2.0000],\n",
      "        [6.3000, 3.3000, 4.7000, 1.6000],\n",
      "        [5.0000, 3.2000, 1.2000, 0.2000],\n",
      "        [5.0000, 3.5000, 1.3000, 0.3000],\n",
      "        [5.5000, 2.3000, 4.0000, 1.3000],\n",
      "        [6.4000, 3.2000, 4.5000, 1.5000],\n",
      "        [6.4000, 2.8000, 5.6000, 2.1000],\n",
      "        [5.6000, 3.0000, 4.5000, 1.5000],\n",
      "        [7.0000, 3.2000, 4.7000, 1.4000],\n",
      "        [4.8000, 3.0000, 1.4000, 0.1000],\n",
      "        [4.8000, 3.1000, 1.6000, 0.2000],\n",
      "        [5.4000, 3.4000, 1.7000, 0.2000],\n",
      "        [7.3000, 2.9000, 6.3000, 1.8000],\n",
      "        [5.4000, 3.9000, 1.7000, 0.4000],\n",
      "        [6.3000, 3.3000, 6.0000, 2.5000],\n",
      "        [6.7000, 3.1000, 4.7000, 1.5000]]), tensor([2, 0, 2, 2, 0, 0, 0, 0, 2, 0, 2, 0, 0, 2, 1, 2, 0, 1, 2, 0, 2, 1, 0, 2,\n",
      "        1, 1, 2, 1, 2, 2, 2, 2, 0, 2, 2, 1, 0, 0, 1, 1, 2, 1, 1, 0, 0, 0, 2, 0,\n",
      "        2, 1])]\n",
      "1 [tensor([[5.9000, 3.0000, 4.2000, 1.5000],\n",
      "        [7.7000, 3.0000, 6.1000, 2.3000],\n",
      "        [5.4000, 3.0000, 4.5000, 1.5000],\n",
      "        [6.3000, 2.9000, 5.6000, 1.8000],\n",
      "        [4.9000, 2.4000, 3.3000, 1.0000],\n",
      "        [4.6000, 3.1000, 1.5000, 0.2000],\n",
      "        [5.5000, 2.4000, 3.8000, 1.1000],\n",
      "        [6.7000, 2.5000, 5.8000, 1.8000],\n",
      "        [5.6000, 2.5000, 3.9000, 1.1000],\n",
      "        [6.4000, 3.1000, 5.5000, 1.8000],\n",
      "        [6.0000, 2.9000, 4.5000, 1.5000],\n",
      "        [7.7000, 3.8000, 6.7000, 2.2000],\n",
      "        [6.4000, 2.8000, 5.6000, 2.2000],\n",
      "        [4.4000, 3.0000, 1.3000, 0.2000],\n",
      "        [4.5000, 2.3000, 1.3000, 0.3000],\n",
      "        [5.7000, 2.5000, 5.0000, 2.0000],\n",
      "        [6.7000, 3.0000, 5.0000, 1.7000],\n",
      "        [4.4000, 3.2000, 1.3000, 0.2000],\n",
      "        [5.8000, 2.7000, 3.9000, 1.2000],\n",
      "        [6.0000, 3.0000, 4.8000, 1.8000],\n",
      "        [5.0000, 3.0000, 1.6000, 0.2000],\n",
      "        [5.0000, 3.4000, 1.6000, 0.4000],\n",
      "        [5.6000, 2.8000, 4.9000, 2.0000],\n",
      "        [6.4000, 2.9000, 4.3000, 1.3000],\n",
      "        [5.4000, 3.7000, 1.5000, 0.2000],\n",
      "        [6.3000, 2.5000, 4.9000, 1.5000],\n",
      "        [5.5000, 2.5000, 4.0000, 1.3000],\n",
      "        [5.5000, 2.6000, 4.4000, 1.2000],\n",
      "        [6.8000, 3.2000, 5.9000, 2.3000],\n",
      "        [5.7000, 2.9000, 4.2000, 1.3000],\n",
      "        [6.1000, 2.6000, 5.6000, 1.4000],\n",
      "        [5.0000, 3.5000, 1.6000, 0.6000],\n",
      "        [5.4000, 3.4000, 1.5000, 0.4000],\n",
      "        [6.1000, 2.8000, 4.0000, 1.3000],\n",
      "        [6.7000, 3.0000, 5.2000, 2.3000],\n",
      "        [5.1000, 3.4000, 1.5000, 0.2000],\n",
      "        [6.7000, 3.1000, 4.4000, 1.4000],\n",
      "        [6.9000, 3.2000, 5.7000, 2.3000],\n",
      "        [6.8000, 2.8000, 4.8000, 1.4000],\n",
      "        [6.2000, 2.9000, 4.3000, 1.3000],\n",
      "        [5.0000, 3.6000, 1.4000, 0.2000],\n",
      "        [6.5000, 2.8000, 4.6000, 1.5000],\n",
      "        [6.0000, 2.2000, 5.0000, 1.5000],\n",
      "        [5.2000, 3.4000, 1.4000, 0.2000],\n",
      "        [5.8000, 4.0000, 1.2000, 0.2000],\n",
      "        [4.8000, 3.0000, 1.4000, 0.3000],\n",
      "        [6.9000, 3.1000, 5.4000, 2.1000],\n",
      "        [5.7000, 3.0000, 4.2000, 1.2000],\n",
      "        [4.6000, 3.4000, 1.4000, 0.3000],\n",
      "        [6.3000, 2.5000, 5.0000, 1.9000]]), tensor([1, 2, 1, 2, 1, 0, 1, 2, 1, 2, 1, 2, 2, 0, 0, 2, 1, 0, 1, 2, 0, 0, 2, 1,\n",
      "        0, 1, 1, 1, 2, 1, 2, 0, 0, 1, 2, 0, 1, 2, 1, 1, 0, 1, 2, 0, 0, 0, 2, 1,\n",
      "        0, 2])]\n",
      "2 [tensor([[5.8000, 2.7000, 5.1000, 1.9000],\n",
      "        [7.2000, 3.0000, 5.8000, 1.6000],\n",
      "        [6.9000, 3.1000, 5.1000, 2.3000],\n",
      "        [6.1000, 3.0000, 4.6000, 1.4000],\n",
      "        [5.8000, 2.7000, 4.1000, 1.0000],\n",
      "        [5.5000, 2.4000, 3.7000, 1.0000],\n",
      "        [5.1000, 3.5000, 1.4000, 0.3000],\n",
      "        [6.9000, 3.1000, 4.9000, 1.5000],\n",
      "        [4.9000, 3.0000, 1.4000, 0.2000],\n",
      "        [5.9000, 3.2000, 4.8000, 1.8000],\n",
      "        [4.8000, 3.4000, 1.6000, 0.2000],\n",
      "        [6.4000, 2.7000, 5.3000, 1.9000],\n",
      "        [4.9000, 3.1000, 1.5000, 0.1000],\n",
      "        [6.5000, 3.2000, 5.1000, 2.0000],\n",
      "        [5.0000, 2.3000, 3.3000, 1.0000],\n",
      "        [6.6000, 2.9000, 4.6000, 1.3000],\n",
      "        [5.6000, 3.0000, 4.1000, 1.3000],\n",
      "        [5.1000, 3.8000, 1.9000, 0.4000],\n",
      "        [4.7000, 3.2000, 1.3000, 0.2000],\n",
      "        [6.1000, 2.9000, 4.7000, 1.4000],\n",
      "        [5.1000, 3.5000, 1.4000, 0.2000],\n",
      "        [5.8000, 2.8000, 5.1000, 2.4000],\n",
      "        [6.3000, 3.4000, 5.6000, 2.4000],\n",
      "        [4.6000, 3.6000, 1.0000, 0.2000],\n",
      "        [5.1000, 3.7000, 1.5000, 0.4000],\n",
      "        [6.5000, 3.0000, 5.5000, 1.8000],\n",
      "        [5.6000, 2.9000, 3.6000, 1.3000],\n",
      "        [5.6000, 2.7000, 4.2000, 1.3000],\n",
      "        [5.0000, 2.0000, 3.5000, 1.0000],\n",
      "        [7.4000, 2.8000, 6.1000, 1.9000],\n",
      "        [5.7000, 4.4000, 1.5000, 0.4000],\n",
      "        [6.2000, 2.8000, 4.8000, 1.8000],\n",
      "        [5.8000, 2.6000, 4.0000, 1.2000],\n",
      "        [5.8000, 2.7000, 5.1000, 1.9000],\n",
      "        [5.3000, 3.7000, 1.5000, 0.2000],\n",
      "        [6.0000, 3.4000, 4.5000, 1.6000],\n",
      "        [4.7000, 3.2000, 1.6000, 0.2000],\n",
      "        [6.0000, 2.7000, 5.1000, 1.6000],\n",
      "        [6.1000, 2.8000, 4.7000, 1.2000],\n",
      "        [6.7000, 3.3000, 5.7000, 2.5000],\n",
      "        [6.2000, 2.2000, 4.5000, 1.5000],\n",
      "        [5.5000, 4.2000, 1.4000, 0.2000],\n",
      "        [5.5000, 3.5000, 1.3000, 0.2000],\n",
      "        [6.4000, 3.2000, 5.3000, 2.3000],\n",
      "        [5.7000, 2.6000, 3.5000, 1.0000],\n",
      "        [6.7000, 3.3000, 5.7000, 2.1000],\n",
      "        [5.7000, 2.8000, 4.1000, 1.3000],\n",
      "        [5.1000, 3.8000, 1.5000, 0.3000],\n",
      "        [4.4000, 2.9000, 1.4000, 0.2000],\n",
      "        [5.0000, 3.4000, 1.5000, 0.2000]]), tensor([2, 2, 2, 1, 1, 1, 0, 1, 0, 1, 0, 2, 0, 2, 1, 1, 1, 0, 0, 1, 0, 2, 2, 0,\n",
      "        0, 2, 1, 1, 1, 2, 0, 2, 1, 2, 0, 1, 0, 1, 1, 2, 1, 0, 0, 2, 1, 2, 1, 0,\n",
      "        0, 0])]\n"
     ]
    }
   ],
   "source": [
    "for i,batch in enumerate(iris_loader):\n",
    "    print(i,batch)"
   ]
  },
  {
   "cell_type": "markdown",
   "metadata": {},
   "source": [
    "Divides the dataset with 150 entries into 3 batches (Specified Batch size =50) and shuffled the data and created test train split more effectively than the above method."
   ]
  },
  {
   "cell_type": "markdown",
   "metadata": {},
   "source": [
    "This data can be send to our model 50 examples at a time."
   ]
  },
  {
   "cell_type": "markdown",
   "metadata": {},
   "source": [
    "## ANN"
   ]
  },
  {
   "cell_type": "code",
   "execution_count": 17,
   "metadata": {
    "ExecuteTime": {
     "end_time": "2020-04-29T14:33:49.416587Z",
     "start_time": "2020-04-29T14:33:49.369616Z"
    }
   },
   "outputs": [],
   "source": [
    "class Model(nn.Module):\n",
    "    \n",
    "    def __init__(self,in_features=4,h1=6,h2=3,out_features=3):\n",
    "        super().__init__()\n",
    "        self.fc1 = nn.Linear(in_features,h1)\n",
    "        self.fc2 = nn.Linear(h1,h2)\n",
    "        self.out = nn.Linear(h2,out_features)\n",
    "    \n",
    "    def forward(self,x):\n",
    "        x = F.relu(self.fc1(x))\n",
    "        x = F.relu(self.fc2(x))\n",
    "        x = self.out(x)\n",
    "        return x"
   ]
  },
  {
   "cell_type": "code",
   "execution_count": 18,
   "metadata": {
    "ExecuteTime": {
     "end_time": "2020-04-29T14:33:49.539861Z",
     "start_time": "2020-04-29T14:33:49.420587Z"
    }
   },
   "outputs": [],
   "source": [
    "model = Model()"
   ]
  },
  {
   "cell_type": "code",
   "execution_count": 19,
   "metadata": {
    "ExecuteTime": {
     "end_time": "2020-04-29T14:33:49.663726Z",
     "start_time": "2020-04-29T14:33:49.542860Z"
    }
   },
   "outputs": [
    {
     "data": {
      "text/plain": [
       "Model(\n",
       "  (fc1): Linear(in_features=4, out_features=6, bias=True)\n",
       "  (fc2): Linear(in_features=6, out_features=3, bias=True)\n",
       "  (out): Linear(in_features=3, out_features=3, bias=True)\n",
       ")"
      ]
     },
     "execution_count": 19,
     "metadata": {},
     "output_type": "execute_result"
    }
   ],
   "source": [
    "model"
   ]
  },
  {
   "cell_type": "code",
   "execution_count": 20,
   "metadata": {
    "ExecuteTime": {
     "end_time": "2020-04-29T14:33:49.785815Z",
     "start_time": "2020-04-29T14:33:49.668723Z"
    }
   },
   "outputs": [
    {
     "data": {
      "text/plain": [
       "Parameter containing:\n",
       "tensor([[ 0.2376, -0.0879, -0.0915,  0.3626],\n",
       "        [ 0.2472, -0.2576,  0.2385, -0.1738],\n",
       "        [-0.4534, -0.3402,  0.1171,  0.0327],\n",
       "        [-0.4450, -0.4571, -0.4225, -0.2827],\n",
       "        [-0.0142,  0.0934,  0.0549, -0.2397],\n",
       "        [ 0.4406, -0.2365,  0.1471, -0.3460]], requires_grad=True)"
      ]
     },
     "execution_count": 20,
     "metadata": {},
     "output_type": "execute_result"
    }
   ],
   "source": [
    "model.fc1.weight"
   ]
  },
  {
   "cell_type": "code",
   "execution_count": 21,
   "metadata": {
    "ExecuteTime": {
     "end_time": "2020-04-29T14:33:50.051422Z",
     "start_time": "2020-04-29T14:33:49.789813Z"
    }
   },
   "outputs": [
    {
     "data": {
      "text/plain": [
       "Parameter containing:\n",
       "tensor([ 0.0931,  0.2283, -0.2173,  0.1714,  0.1598, -0.0328],\n",
       "       requires_grad=True)"
      ]
     },
     "execution_count": 21,
     "metadata": {},
     "output_type": "execute_result"
    }
   ],
   "source": [
    "model.fc1.bias"
   ]
  },
  {
   "cell_type": "markdown",
   "metadata": {},
   "source": [
    "- Shape of the weight tensor between input(4,1) and h1 (6,1) is (4,6)\n",
    "- Shape of the bias tensor between input(4,1) and h1(6,1) is depended on h1. It has 6 values corresponding to each neuron in h1."
   ]
  },
  {
   "cell_type": "code",
   "execution_count": 22,
   "metadata": {
    "ExecuteTime": {
     "end_time": "2020-04-29T14:33:50.257810Z",
     "start_time": "2020-04-29T14:33:50.065413Z"
    }
   },
   "outputs": [],
   "source": [
    "features = torch.FloatTensor(features)\n",
    "target = torch.LongTensor(target)"
   ]
  },
  {
   "cell_type": "code",
   "execution_count": 23,
   "metadata": {
    "ExecuteTime": {
     "end_time": "2020-04-29T14:33:50.427515Z",
     "start_time": "2020-04-29T14:33:50.264801Z"
    }
   },
   "outputs": [],
   "source": [
    "X_train, X_test, y_train, y_test=train_test_split(features,target,random_state=59,test_size=0.2)"
   ]
  },
  {
   "cell_type": "code",
   "execution_count": 24,
   "metadata": {
    "ExecuteTime": {
     "end_time": "2020-04-29T14:33:51.076585Z",
     "start_time": "2020-04-29T14:33:50.430513Z"
    }
   },
   "outputs": [
    {
     "name": "stdout",
     "output_type": "stream",
     "text": [
      "Epoch:0,loss:1.10\n",
      "Epoch:10,loss:1.02\n",
      "Epoch:20,loss:0.90\n",
      "Epoch:30,loss:0.78\n",
      "Epoch:40,loss:0.69\n",
      "Epoch:50,loss:0.63\n",
      "Epoch:60,loss:0.57\n",
      "Epoch:70,loss:0.50\n",
      "Epoch:80,loss:0.40\n",
      "Epoch:90,loss:0.30\n",
      "Epoch:100,loss:0.23\n",
      "Epoch:110,loss:0.19\n",
      "Epoch:120,loss:0.16\n",
      "Epoch:130,loss:0.14\n",
      "Epoch:140,loss:0.13\n",
      "Epoch:150,loss:0.12\n",
      "Epoch:160,loss:0.12\n",
      "Epoch:170,loss:0.11\n",
      "Epoch:180,loss:0.10\n",
      "Epoch:190,loss:0.10\n"
     ]
    }
   ],
   "source": [
    "# Classification problem => Evaluated based on Cross Entropy Loss\n",
    "criterion = nn.CrossEntropyLoss()\n",
    "\n",
    "#Optimizer\n",
    "optimizer = torch.optim.Adam(model.parameters(),lr=0.01)\n",
    "\n",
    "#Epochs\n",
    "epochs = 200\n",
    "losses = []\n",
    "\n",
    "for i in range(epochs):\n",
    "    \n",
    "    ypred = model.forward(X_train)\n",
    "    \n",
    "    loss = criterion(ypred,y_train)\n",
    "    #Keeping track of loss\n",
    "    losses.append(loss.item())\n",
    "    \n",
    "\n",
    "    if i%10==0:\n",
    "        print(f'Epoch:{i},loss:{loss:.2f}')\n",
    "        \n",
    "    #Backpropagation\n",
    "    optimizer.zero_grad()\n",
    "    loss.backward()\n",
    "    optimizer.step()"
   ]
  },
  {
   "cell_type": "code",
   "execution_count": 25,
   "metadata": {
    "ExecuteTime": {
     "end_time": "2020-04-29T14:33:51.315436Z",
     "start_time": "2020-04-29T14:33:51.080582Z"
    }
   },
   "outputs": [
    {
     "data": {
      "image/png": "[encoded data removed]",
      "text/plain": [
       "<Figure size 432x288 with 1 Axes>"
      ]
     },
     "metadata": {
      "needs_background": "light"
     },
     "output_type": "display_data"
    }
   ],
   "source": [
    "plt.plot(range(epochs),losses)\n",
    "plt.show()"
   ]
  },
  {
   "cell_type": "markdown",
   "metadata": {
    "ExecuteTime": {
     "end_time": "2020-04-29T14:18:07.797550Z",
     "start_time": "2020-04-29T14:18:07.792556Z"
    }
   },
   "source": [
    "## Predicting performance on unseen data"
   ]
  },
  {
   "cell_type": "code",
   "execution_count": 26,
   "metadata": {
    "ExecuteTime": {
     "end_time": "2020-04-29T14:33:51.531560Z",
     "start_time": "2020-04-29T14:33:51.318437Z"
    }
   },
   "outputs": [],
   "source": [
    "with torch.no_grad():\n",
    "    yval = model.forward(X_test)\n",
    "    loss=criterion(yval,y_test)"
   ]
  },
  {
   "cell_type": "code",
   "execution_count": 27,
   "metadata": {
    "ExecuteTime": {
     "end_time": "2020-04-29T14:33:51.671396Z",
     "start_time": "2020-04-29T14:33:51.539551Z"
    }
   },
   "outputs": [
    {
     "data": {
      "text/plain": [
       "tensor(0.0518)"
      ]
     },
     "execution_count": 27,
     "metadata": {},
     "output_type": "execute_result"
    }
   ],
   "source": [
    "loss"
   ]
  },
  {
   "cell_type": "code",
   "execution_count": 28,
   "metadata": {
    "ExecuteTime": {
     "end_time": "2020-04-29T14:33:51.956364Z",
     "start_time": "2020-04-29T14:33:51.675388Z"
    }
   },
   "outputs": [
    {
     "name": "stdout",
     "output_type": "stream",
     "text": [
      "Predicted:1 Actual:1\n",
      "Predicted:0 Actual:0\n",
      "Predicted:2 Actual:2\n",
      "Predicted:2 Actual:2\n",
      "Predicted:2 Actual:2\n",
      "Predicted:2 Actual:2\n",
      "Predicted:1 Actual:1\n",
      "Predicted:0 Actual:0\n",
      "Predicted:2 Actual:2\n",
      "Predicted:2 Actual:2\n",
      "Predicted:2 Actual:2\n",
      "Predicted:1 Actual:1\n",
      "Predicted:1 Actual:1\n",
      "Predicted:0 Actual:0\n",
      "Predicted:0 Actual:0\n",
      "Predicted:0 Actual:0\n",
      "Predicted:2 Actual:2\n",
      "Predicted:1 Actual:1\n",
      "Predicted:0 Actual:0\n",
      "Predicted:2 Actual:2\n",
      "Predicted:1 Actual:1\n",
      "Predicted:2 Actual:2\n",
      "Predicted:2 Actual:2\n",
      "Predicted:2 Actual:2\n",
      "Predicted:1 Actual:1\n",
      "Predicted:2 Actual:2\n",
      "Predicted:1 Actual:1\n",
      "Predicted:0 Actual:0\n",
      "Predicted:0 Actual:0\n",
      "Predicted:0 Actual:0\n",
      "We got 30 Correct! out of 30\n"
     ]
    }
   ],
   "source": [
    "correct =0\n",
    "for i,data in enumerate(X_test):\n",
    "    yval = model.forward(data)\n",
    "    \n",
    "    print(f\"Predicted:{yval.argmax()} Actual:{y_test[i]}\")\n",
    "    if yval.argmax().item()== y_test[i]:\n",
    "        correct+=1\n",
    "    \n",
    "print(f\"We got {correct} Correct! out of {len(X_test)}\")\n",
    "    "
   ]
  },
  {
   "cell_type": "code",
   "execution_count": null,
   "metadata": {},
   "outputs": [],
   "source": []
  }
 ],
 "metadata": {
  "hide_input": false,
  "kernelspec": {
   "display_name": "Python 3",
   "language": "python",
   "name": "python3"
  },
  "language_info": {
   "codemirror_mode": {
    "name": "ipython",
    "version": 3
   },
   "file_extension": ".py",
   "mimetype": "text/x-python",
   "name": "python",
   "nbconvert_exporter": "python",
   "pygments_lexer": "ipython3",
   "version": "3.7.7"
  },
  "toc": {
   "base_numbering": 1,
   "nav_menu": {},
   "number_sections": false,
   "sideBar": true,
   "skip_h1_title": false,
   "title_cell": "Table of Contents",
   "title_sidebar": "Contents",
   "toc_cell": false,
   "toc_position": {},
   "toc_section_display": true,
   "toc_window_display": false
  },
  "varInspector": {
   "cols": {
    "lenName": 16,
    "lenType": 16,
    "lenVar": 40
   },
   "kernels_config": {
    "python": {
     "delete_cmd_postfix": "",
     "delete_cmd_prefix": "del ",
     "library": "var_list.py",
     "varRefreshCmd": "print(var_dic_list())"
    },
    "r": {
     "delete_cmd_postfix": ") ",
     "delete_cmd_prefix": "rm(",
     "library": "var_list.r",
     "varRefreshCmd": "cat(var_dic_list()) "
    }
   },
   "types_to_exclude": [
    "module",
    "function",
    "builtin_function_or_method",
    "instance",
    "_Feature"
   ],
   "window_display": false
  }
 },
 "nbformat": 4,
 "nbformat_minor": 2
}
